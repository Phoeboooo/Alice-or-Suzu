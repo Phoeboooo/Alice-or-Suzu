{
 "cells": [
  {
   "cell_type": "code",
   "execution_count": 2,
   "metadata": {},
   "outputs": [
    {
     "name": "stdout",
     "output_type": "stream",
     "text": [
      "_________________________________________________________________\n",
      "Layer (type)                 Output Shape              Param #   \n",
      "=================================================================\n",
      "conv2d_5 (Conv2D)            (None, 148, 148, 32)      896       \n",
      "_________________________________________________________________\n",
      "max_pooling2d_5 (MaxPooling2 (None, 74, 74, 32)        0         \n",
      "_________________________________________________________________\n",
      "dropout_6 (Dropout)          (None, 74, 74, 32)        0         \n",
      "_________________________________________________________________\n",
      "conv2d_6 (Conv2D)            (None, 72, 72, 64)        18496     \n",
      "_________________________________________________________________\n",
      "max_pooling2d_6 (MaxPooling2 (None, 36, 36, 64)        0         \n",
      "_________________________________________________________________\n",
      "dropout_7 (Dropout)          (None, 36, 36, 64)        0         \n",
      "_________________________________________________________________\n",
      "conv2d_7 (Conv2D)            (None, 34, 34, 128)       73856     \n",
      "_________________________________________________________________\n",
      "max_pooling2d_7 (MaxPooling2 (None, 17, 17, 128)       0         \n",
      "_________________________________________________________________\n",
      "dropout_8 (Dropout)          (None, 17, 17, 128)       0         \n",
      "_________________________________________________________________\n",
      "conv2d_8 (Conv2D)            (None, 15, 15, 128)       147584    \n",
      "_________________________________________________________________\n",
      "max_pooling2d_8 (MaxPooling2 (None, 7, 7, 128)         0         \n",
      "_________________________________________________________________\n",
      "dropout_9 (Dropout)          (None, 7, 7, 128)         0         \n",
      "_________________________________________________________________\n",
      "flatten_2 (Flatten)          (None, 6272)              0         \n",
      "_________________________________________________________________\n",
      "dense_3 (Dense)              (None, 512)               3211776   \n",
      "_________________________________________________________________\n",
      "dropout_10 (Dropout)         (None, 512)               0         \n",
      "_________________________________________________________________\n",
      "dense_4 (Dense)              (None, 1)                 513       \n",
      "=================================================================\n",
      "Total params: 3,453,121\n",
      "Trainable params: 3,453,121\n",
      "Non-trainable params: 0\n",
      "_________________________________________________________________\n"
     ]
    }
   ],
   "source": [
    "from keras import layers\n",
    "from keras import models\n",
    "from keras import optimizers\n",
    "\n",
    "model = models.Sequential()\n",
    "model.add(layers.Conv2D(32, (3, 3), activation='relu',\n",
    "                        input_shape=(150, 150, 3)))\n",
    "model.add(layers.MaxPooling2D((2, 2)))\n",
    "model.add(layers.Dropout(0.2))\n",
    "model.add(layers.Conv2D(64, (3, 3), activation='relu'))\n",
    "model.add(layers.MaxPooling2D((2, 2)))\n",
    "model.add(layers.Dropout(0.2))\n",
    "model.add(layers.Conv2D(128, (3, 3), activation='relu'))\n",
    "model.add(layers.MaxPooling2D((2, 2)))\n",
    "model.add(layers.Dropout(0.2))\n",
    "model.add(layers.Conv2D(128, (3, 3), activation='relu'))\n",
    "model.add(layers.MaxPooling2D((2, 2)))\n",
    "model.add(layers.Dropout(0.2))\n",
    "model.add(layers.Flatten())\n",
    "model.add(layers.Dense(512, activation='relu'))\n",
    "model.add(layers.Dropout(0.2))\n",
    "model.add(layers.Dense(1, activation='sigmoid'))\n",
    "\n",
    "model.compile(loss='binary_crossentropy',\n",
    "              optimizer=optimizers.RMSprop(lr=1e-4),\n",
    "              metrics=['acc'])\n",
    "\n",
    "model.summary()"
   ]
  },
  {
   "cell_type": "code",
   "execution_count": 3,
   "metadata": {},
   "outputs": [],
   "source": [
    "from keras import optimizers\n",
    "model.compile(loss='binary_crossentropy',\n",
    "              optimizer=optimizers.RMSprop(lr=1e-4),\n",
    "              metrics=['acc'])"
   ]
  },
  {
   "cell_type": "code",
   "execution_count": 7,
   "metadata": {},
   "outputs": [
    {
     "name": "stdout",
     "output_type": "stream",
     "text": [
      "Found 2000 images belonging to 2 classes.\n",
      "Found 1000 images belonging to 2 classes.\n"
     ]
    }
   ],
   "source": [
    "from keras.preprocessing.image import ImageDataGenerator\n",
    "\n",
    "train_dir = 'Downloads/alice_suzu/train'\n",
    "validation_dir = 'Downloads/alice_suzu/validation'\n",
    "\n",
    "# # rescaled by 1./255\n",
    "train_datagen = ImageDataGenerator(rescale=1./255)\n",
    "test_datagen = ImageDataGenerator(rescale=1./255)\n",
    "\n",
    "train_generator = train_datagen.flow_from_directory(\n",
    "        train_dir,     # directory\n",
    "        target_size=(150, 150),     # input shape (resized to 150x150)\n",
    "        batch_size=20,\n",
    "        class_mode='binary')     # binary labels\n",
    "\n",
    "validation_generator = test_datagen.flow_from_directory(\n",
    "        validation_dir,\n",
    "        target_size=(150, 150),\n",
    "        batch_size=20,\n",
    "        class_mode='binary')"
   ]
  },
  
  
  {
   "cell_type": "code",
   "execution_count": 8,
   "metadata": {},
   "outputs": [
    {
     "name": "stdout",
     "output_type": "stream",
     "text": [
      "Epoch 1/30\n",
      "100/100 [==============================] - 168s 2s/step - loss: 0.7000 - acc: 0.5155 - val_loss: 0.6893 - val_acc: 0.5180\n",
      "Epoch 2/30\n",
      "100/100 [==============================] - 167s 2s/step - loss: 0.6777 - acc: 0.5785 - val_loss: 0.6798 - val_acc: 0.5990\n",
      "Epoch 3/30\n",
      "100/100 [==============================] - 167s 2s/step - loss: 0.6460 - acc: 0.6240 - val_loss: 0.6831 - val_acc: 0.5280\n",
      "Epoch 4/30\n",
      "100/100 [==============================] - 166s 2s/step - loss: 0.6163 - acc: 0.6395 - val_loss: 0.6497 - val_acc: 0.6390\n",
      "Epoch 5/30\n",
      "100/100 [==============================] - 166s 2s/step - loss: 0.5880 - acc: 0.6815 - val_loss: 0.6356 - val_acc: 0.6450\n",
      "Epoch 6/30\n",
      "100/100 [==============================] - 165s 2s/step - loss: 0.5592 - acc: 0.7040 - val_loss: 0.6152 - val_acc: 0.6450\n",
      "Epoch 7/30\n",
      "100/100 [==============================] - 167s 2s/step - loss: 0.5286 - acc: 0.7310 - val_loss: 0.5992 - val_acc: 0.6920\n",
      "Epoch 8/30\n",
      "100/100 [==============================] - 186s 2s/step - loss: 0.4929 - acc: 0.7670 - val_loss: 0.5803 - val_acc: 0.6910\n",
      "Epoch 9/30\n",
      "100/100 [==============================] - 202s 2s/step - loss: 0.4666 - acc: 0.7935 - val_loss: 0.5807 - val_acc: 0.6970\n",
      "Epoch 10/30\n",
      "100/100 [==============================] - 288s 3s/step - loss: 0.4310 - acc: 0.8075 - val_loss: 0.5505 - val_acc: 0.7220\n",
      "Epoch 11/30\n",
      "100/100 [==============================] - 250s 2s/step - loss: 0.4127 - acc: 0.8240 - val_loss: 0.5406 - val_acc: 0.7340\n",
      "Epoch 12/30\n",
      "100/100 [==============================] - 170s 2s/step - loss: 0.3704 - acc: 0.8325 - val_loss: 0.5338 - val_acc: 0.7430\n",
      "Epoch 13/30\n",
      "100/100 [==============================] - 159s 2s/step - loss: 0.3481 - acc: 0.8530 - val_loss: 0.5328 - val_acc: 0.7380\n",
      "Epoch 14/30\n",
      "100/100 [==============================] - 160s 2s/step - loss: 0.3397 - acc: 0.8520 - val_loss: 0.5328 - val_acc: 0.7420\n",
      "Epoch 15/30\n",
      "100/100 [==============================] - 161s 2s/step - loss: 0.3013 - acc: 0.8740 - val_loss: 0.5020 - val_acc: 0.7690\n",
      "Epoch 16/30\n",
      "100/100 [==============================] - 159s 2s/step - loss: 0.2966 - acc: 0.8750 - val_loss: 0.5042 - val_acc: 0.7700\n",
      "Epoch 17/30\n",
      "100/100 [==============================] - 159s 2s/step - loss: 0.2704 - acc: 0.8830 - val_loss: 0.5095 - val_acc: 0.7690\n",
      "Epoch 18/30\n",
      "100/100 [==============================] - 157s 2s/step - loss: 0.2474 - acc: 0.9035 - val_loss: 0.4829 - val_acc: 0.7800\n",
      "Epoch 19/30\n",
      "100/100 [==============================] - 155s 2s/step - loss: 0.2215 - acc: 0.9155 - val_loss: 0.5158 - val_acc: 0.7870\n",
      "Epoch 20/30\n",
      "100/100 [==============================] - 162s 2s/step - loss: 0.2045 - acc: 0.9210 - val_loss: 0.4941 - val_acc: 0.7910\n",
      "Epoch 21/30\n",
      "100/100 [==============================] - 156s 2s/step - loss: 0.1941 - acc: 0.9275 - val_loss: 0.5447 - val_acc: 0.7850\n",
      "Epoch 22/30\n",
      "100/100 [==============================] - 156s 2s/step - loss: 0.1710 - acc: 0.9370 - val_loss: 0.4871 - val_acc: 0.8000\n",
      "Epoch 23/30\n",
      "100/100 [==============================] - 156s 2s/step - loss: 0.1492 - acc: 0.9395 - val_loss: 0.5119 - val_acc: 0.8120\n",
      "Epoch 24/30\n",
      "100/100 [==============================] - 158s 2s/step - loss: 0.1442 - acc: 0.9435 - val_loss: 0.4940 - val_acc: 0.8260\n",
      "Epoch 25/30\n",
      "100/100 [==============================] - 175s 2s/step - loss: 0.1291 - acc: 0.9515 - val_loss: 0.5088 - val_acc: 0.8150\n",
      "Epoch 26/30\n",
      "100/100 [==============================] - 160s 2s/step - loss: 0.1226 - acc: 0.9540 - val_loss: 0.5022 - val_acc: 0.8240\n",
      "Epoch 27/30\n",
      "100/100 [==============================] - 153s 2s/step - loss: 0.1093 - acc: 0.9570 - val_loss: 0.5382 - val_acc: 0.8290\n",
      "Epoch 28/30\n",
      "100/100 [==============================] - 155s 2s/step - loss: 0.0974 - acc: 0.9690 - val_loss: 0.5251 - val_acc: 0.8420\n",
      "Epoch 29/30\n",
      "100/100 [==============================] - 191s 2s/step - loss: 0.0880 - acc: 0.9655 - val_loss: 0.5601 - val_acc: 0.8390\n",
      "Epoch 30/30\n",
      "100/100 [==============================] - 166s 2s/step - loss: 0.0818 - acc: 0.9765 - val_loss: 0.5802 - val_acc: 0.8330\n"
     ]
    }
   ],
   "source": [
    "history = model.fit_generator(\n",
    "      train_generator,\n",
    "      steps_per_epoch=100,\n",
    "      epochs=30,\n",
    "      validation_data=validation_generator,\n",
    "      validation_steps=50)"
   ]
  },
  {
   "cell_type": "code",
   "execution_count": 10,
   "metadata": {},
   "outputs": [
    {
     "data": {
      "image/png": "[encoded data removed]",
      "text/plain": [
       "<Figure size 432x288 with 1 Axes>"
      ]
     },
     "metadata": {},
     "output_type": "display_data"
    },
    {
     "data": {
      "image/png": "[encoded data removed]",
      "text/plain": [
       "<Figure size 432x288 with 1 Axes>"
      ]
     },
     "metadata": {},
     "output_type": "display_data"
    }
   ],
   "source": [
    "import matplotlib.pyplot as plt\n",
    "\n",
    "acc = history.history['acc']\n",
    "val_acc = history.history['val_acc']\n",
    "loss = history.history['loss']\n",
    "val_loss = history.history['val_loss']\n",
    "\n",
    "epochs = range(len(acc))\n",
    "\n",
    "plt.plot(epochs, acc, 'bo', label='Training acc')\n",
    "plt.plot(epochs, val_acc, 'b', label='Validation acc')\n",
    "plt.title('Training and validation accuracy')\n",
    "plt.legend()\n",
    "\n",
    "plt.figure()\n",
    "\n",
    "plt.plot(epochs, loss, 'bo', label='Training loss')\n",
    "plt.plot(epochs, val_loss, 'b', label='Validation loss')\n",
    "plt.title('Training and validation loss')\n",
    "plt.legend()\n",
    "\n",
    "plt.show()"
   ]
  },
  {
   "cell_type": "code",
   "execution_count": 11,
   "metadata": {},
   "outputs": [],
   "source": [
    "model.save('alice_suzu')"
   ]
  },
  {
   "cell_type": "code",
   "execution_count": 12,
   "metadata": {},
   "outputs": [
    {
     "name": "stdout",
     "output_type": "stream",
     "text": [
      "Found 1000 images belonging to 2 classes.\n",
      "test loss: 0.6507015213370323\n",
      "test acc: 0.8114285707473755\n"
     ]
    }
   ],
   "source": [
    "from keras.models import load_model\n",
    "from keras.preprocessing.image import ImageDataGenerator\n",
    "model = load_model('alice_suzu')\n",
    "\n",
    "test_dir = 'downloads/alice_suzu/test'\n",
    "test_datagen = ImageDataGenerator(rescale=1./255)\n",
    "test_generator = test_datagen.flow_from_directory(\n",
    "    test_dir,\n",
    "    target_size=(150,150),\n",
    "    batch_size=20,\n",
    "    class_mode='binary')\n",
    "    \n",
    "test_loss, test_acc = model.evaluate_generator(test_generator, steps=35)\n",
    "print('test loss:', test_loss)\n",
    "print('test acc:', test_acc)\n"
   ]
  }
 ],
 "metadata": {
  "kernelspec": {
   "display_name": "Python 3",
   "language": "python",
   "name": "python3"
  },
  "language_info": {
   "codemirror_mode": {
    "name": "ipython",
    "version": 3
   },
   "file_extension": ".py",
   "mimetype": "text/x-python",
   "name": "python",
   "nbconvert_exporter": "python",
   "pygments_lexer": "ipython3",
   "version": "3.6.5"
  }
 },
 "nbformat": 4,
 "nbformat_minor": 2
}
